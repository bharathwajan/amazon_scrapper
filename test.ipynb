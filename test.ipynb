{
 "cells": [
  {
   "cell_type": "code",
   "execution_count": 48,
   "metadata": {},
   "outputs": [
    {
     "data": {
      "text/plain": [
       "('images/Hp Pavilion 15 AMD Ryzen 5- 8Gb/', 'Hp Pavilion 15 AMD Ryzen 5- 8Gb')"
      ]
     },
     "execution_count": 48,
     "metadata": {},
     "output_type": "execute_result"
    }
   ],
   "source": [
    "#downling image using url\n",
    "import urllib.request\n",
    "import os\n",
    "url =\"https://m.media-amazon.com/images/I/51DHhvYEsWL._SY355_.jpg\"\n",
    "title=\"Hp Pavilion 15 AMD Ryzen 5- 8Gb/512Gb Ssd 15.6 Inches (39.6 cm) Fhd IPS Micro-Edge Anti-Glare Display/Backlit Kb/Alexa/B&O Audio/Fast Charge/Windows 11 Ready/3D Metal Design/1.75 Kg)-15-Eh1101Au\"\n",
    "full_path=\"images/\"+title.split(\"/\")[0]+\"/\"\n",
    "file_name=full_path.split(\"/\")[1]\n",
    "full_path,file_name"
   ]
  },
  {
   "cell_type": "code",
   "execution_count": 50,
   "metadata": {},
   "outputs": [
    {
     "name": "stdout",
     "output_type": "stream",
     "text": [
      ".\n",
      "images/Hp Pavilion 15 AMD Ryzen 5- 8Gb/\n",
      "1\n"
     ]
    }
   ],
   "source": [
    "try:\n",
    "    urllib.request.urlretrieve(url,full_path+\".jpg\")\n",
    "    print(\"0\")\n",
    "except FileNotFoundError:\n",
    "    try:\n",
    "        os.mkdir(\"images\")\n",
    "        os.mkdir(f\"{full_path}\")\n",
    "        print(os.curdir)\n",
    "        print(full_path)\n",
    "        urllib.request.urlretrieve(url,full_path+f\"{file_name}.jpg\")\n",
    "        print(\"1\")\n",
    "    except FileExistsError:\n",
    "        os.mkdir(f\"{full_path}\")\n",
    "        urllib.request.urlretrieve(url,full_path+\".jpg\")\n",
    "        print(\"2\")\n",
    "\n"
   ]
  },
  {
   "cell_type": "code",
   "execution_count": 24,
   "metadata": {},
   "outputs": [
    {
     "ename": "FileExistsError",
     "evalue": "[WinError 183] Cannot create a file when that file already exists: 'images'",
     "output_type": "error",
     "traceback": [
      "\u001b[1;31m---------------------------------------------------------------------------\u001b[0m",
      "\u001b[1;31mFileExistsError\u001b[0m                           Traceback (most recent call last)",
      "\u001b[1;32m<ipython-input-24-f9f644b4a4dd>\u001b[0m in \u001b[0;36m<module>\u001b[1;34m\u001b[0m\n\u001b[0;32m      1\u001b[0m \u001b[1;32mimport\u001b[0m \u001b[0mos\u001b[0m\u001b[1;33m\u001b[0m\u001b[1;33m\u001b[0m\u001b[0m\n\u001b[1;32m----> 2\u001b[1;33m \u001b[0mos\u001b[0m\u001b[1;33m.\u001b[0m\u001b[0mmkdir\u001b[0m\u001b[1;33m(\u001b[0m\u001b[1;34m\"images\"\u001b[0m\u001b[1;33m)\u001b[0m\u001b[1;33m\u001b[0m\u001b[1;33m\u001b[0m\u001b[0m\n\u001b[0m\u001b[0;32m      3\u001b[0m \u001b[1;31m# os.mkdir(\"images/Hp Pavilion 15 AMD Ryzen 5- 8G\")\u001b[0m\u001b[1;33m\u001b[0m\u001b[1;33m\u001b[0m\u001b[1;33m\u001b[0m\u001b[0m\n",
      "\u001b[1;31mFileExistsError\u001b[0m: [WinError 183] Cannot create a file when that file already exists: 'images'"
     ]
    }
   ],
   "source": [
    "import os\n",
    "os.mkdir(\"images\")\n",
    "# os.mkdir(\"images/Hp Pavilion 15 AMD Ryzen 5- 8G\")"
   ]
  },
  {
   "cell_type": "code",
   "execution_count": null,
   "metadata": {},
   "outputs": [],
   "source": [
    "#classmethod decorator\n",
    "Declares a class method.\n",
    "The first parameter must be cls, which can be used to access class attributes.\n",
    "The class method can only access the class attributes but not the instance attributes.\n",
    "The class method can be called using ClassName.MethodName() and also using object.\n",
    "It can return an object of the class."
   ]
  },
  {
   "cell_type": "code",
   "execution_count": 23,
   "metadata": {},
   "outputs": [
    {
     "name": "stdout",
     "output_type": "stream",
     "text": [
      "obey teachers\n"
     ]
    }
   ],
   "source": [
    "class school():\n",
    "    @classmethod\n",
    "    def disiplines(self,cls):\n",
    "        des=\"obey teachers\"\n",
    "        return des\n",
    "    def cls_one(slef):\n",
    "        uniform=\"shorts and shirt\"\n",
    "        return uniform\n",
    "    def cls_tent(self):\n",
    "        uniform=\"pant and shirt\"\n",
    "        return uniform\n",
    "\n",
    "vnp=school()\n",
    "print(vnp.disiplines())\n",
    "vnp.disiplines\n"
   ]
  }
 ],
 "metadata": {
  "kernelspec": {
   "display_name": "Python 3.8.11 ('machine_learning')",
   "language": "python",
   "name": "python3"
  },
  "language_info": {
   "codemirror_mode": {
    "name": "ipython",
    "version": 3
   },
   "file_extension": ".py",
   "mimetype": "text/x-python",
   "name": "python",
   "nbconvert_exporter": "python",
   "pygments_lexer": "ipython3",
   "version": "3.8.11"
  },
  "orig_nbformat": 4,
  "vscode": {
   "interpreter": {
    "hash": "a9c62d8cf6e30c1639f8e9a0a261a530483935ac00f94e2882c1ade2d532fd4c"
   }
  }
 },
 "nbformat": 4,
 "nbformat_minor": 2
}
