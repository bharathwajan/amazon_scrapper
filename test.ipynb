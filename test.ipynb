{
 "cells": [
  {
   "cell_type": "code",
   "execution_count": 130,
   "metadata": {},
   "outputs": [
    {
     "name": "stdout",
     "output_type": "stream",
     "text": [
      "path: images/Lenovo Thi/\n",
      "path: images/Lenovo Thi/Lenovo Thin.jpg\n"
     ]
    }
   ],
   "source": [
    "from urllib.parse import urlencode\n",
    "import re\n",
    "import os\n",
    "import urllib.request\n",
    "exp=\"[a-zA-Z0-9]+\"\n",
    "\n",
    "image_url=\"https://images-eu.ssl-images-amazon.com/images/I/31GUbeFG3FL._SX300_SY300_QL70_FMwebp_.jpg\"\n",
    "\n",
    "title='Lenovo ThinkPad E14 AMD Ryzen 5 5500U 14\" (35.56 cm) FHD Thin and Light Laptop (8GB RAM/512GB SSD/Windows 11/AMD Radeon Graphics/FPR/Black/1.69 kg), 20Y7S07600'\n",
    "\n",
    "path=\"images/\"+\" \".join(re.findall(exp,title))[:10]+\"/\"\n",
    "\n",
    "print(\"path:\",path)\n",
    "\n",
    "path_imgname = path+f\"{title[0:11]}.jpg\"\n",
    "\n",
    "\n",
    "print(\"path:\",path_imgname)\n",
    "\n",
    "try:\n",
    "    os.makedirs(path)\n",
    "    print(\"directory created\")\n",
    "    urllib.request.urlretrieve(image_url , path_imgname)\n",
    "    print(\"saved\")\n",
    "except:\n",
    "    path_imgname=path+f\"{title[0:11]}(1).jpg\"\n",
    "    urllib.request.urlretrieve(image_url , path_imgname)\n",
    "    \n",
    "\n"
   ]
  },
  {
   "cell_type": "code",
   "execution_count": 141,
   "metadata": {},
   "outputs": [
    {
     "data": {
      "text/plain": [
       "'Powerful and portable laptops for schools and colleges Aspire 3 laptop delivers on every aspect of everyday computing Featuring the new AMD Ryzen 3 3250U dual core processor the Aspire 3 A315 23 opens more possibilities than ever before via performance connectivity and entertainment Perfect laptop for every need Aspire 3 packs a beautiful 15 6 Full HD screen solid performance and the Dual Band WiFi into an attractive design that s easy to place in a backpack and carry everywhere you go Ease of Storage 8 GB RAM Laptop with 512GB PCIe NVMe SSD helps easily store and share important projects and data'"
      ]
     },
     "execution_count": 141,
     "metadata": {},
     "output_type": "execute_result"
    }
   ],
   "source": [
    "not to be added -----> lets see"
   ]
  }
 ],
 "metadata": {
  "kernelspec": {
   "display_name": "Python 3.8.11 ('machine_learning')",
   "language": "python",
   "name": "python3"
  },
  "language_info": {
   "codemirror_mode": {
    "name": "ipython",
    "version": 3
   },
   "file_extension": ".py",
   "mimetype": "text/x-python",
   "name": "python",
   "nbconvert_exporter": "python",
   "pygments_lexer": "ipython3",
   "version": "3.8.11"
  },
  "orig_nbformat": 4,
  "vscode": {
   "interpreter": {
    "hash": "a9c62d8cf6e30c1639f8e9a0a261a530483935ac00f94e2882c1ade2d532fd4c"
   }
  }
 },
 "nbformat": 4,
 "nbformat_minor": 2
}
